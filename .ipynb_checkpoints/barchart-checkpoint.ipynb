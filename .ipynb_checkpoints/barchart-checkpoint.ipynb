{
 "cells": [
  {
   "cell_type": "code",
   "execution_count": 4,
   "metadata": {
    "collapsed": false
   },
   "outputs": [
    {
     "data": {
      "text/html": [
       "<script>\n",
       "code_show=true; \n",
       "function code_toggle() {\n",
       " if (code_show){\n",
       " $('div.input').hide();\n",
       " } else {\n",
       " $('div.input').show();\n",
       " }\n",
       " code_show = !code_show\n",
       "} \n",
       "$( document ).ready(code_toggle);\n",
       "</script>\n",
       "The raw code for this IPython notebook is by default hidden for easier reading.\n",
       "To toggle on/off the raw code, click <a href=\"javascript:code_toggle()\">here</a>."
      ],
      "text/plain": [
       "<IPython.core.display.HTML object>"
      ]
     },
     "execution_count": 4,
     "metadata": {},
     "output_type": "execute_result"
    }
   ],
   "source": [
    "HTML('''<script>\n",
    "code_show=true; \n",
    "function code_toggle() {\n",
    " if (code_show){\n",
    " $('div.input').hide();\n",
    " } else {\n",
    " $('div.input').show();\n",
    " }\n",
    " code_show = !code_show\n",
    "} \n",
    "$( document ).ready(code_toggle);\n",
    "</script>\n",
    "The raw code for this IPython notebook is by default hidden for easier reading.\n",
    "To toggle on/off the raw code, click <a href=\"javascript:code_toggle()\">here</a>.''')"
   ]
  },
  {
   "cell_type": "code",
   "execution_count": 1,
   "metadata": {
    "collapsed": false
   },
   "outputs": [
    {
     "data": {
      "text/html": [
       "<style>\n",
       "\n",
       "\n",
       "\n",
       "\n",
       "  @import url('https://fonts.googleapis.com/css?family=Bitter');\n",
       "  @import url('https://fonts.googleapis.com/css?family=Inconsolata');\n",
       "  @import url('https://fonts.googleapis.com/css?family=Chivo');\n",
       "  @import url('https://fonts.googleapis.com/css?family=Cousine');\n",
       "\n",
       "\n",
       "  div.cell{ width:auto;}\n",
       "\n",
       "  div#notebook-container.container { width: 90%;}\n",
       "\n",
       "  #notebook-container { background-color: #fdfdfd;}\n",
       "\n",
       "\n",
       "\n",
       "  div.text_cell_render h1,\n",
       "  div.text_cell_render h2,\n",
       "  div.text_cell_render h3,\n",
       "  div.text_cell_render h4,\n",
       "  div.text_cell_render h5,\n",
       "  div.text_cell_render h6 {\n",
       "      font-family: Chivo;\n",
       "      font-weight: 900;\n",
       "      color: #cc3700;\n",
       "      letter-spacing: 1px;\n",
       "  }\n",
       "\n",
       "  div.text_cell_render p, div.text_cell_render li {\n",
       "    font-family: Chivo;\n",
       "    font-size: 16px;\n",
       "  }\n",
       "\n",
       "\n",
       "\n",
       "\n",
       "\n",
       "  .CodeMirror {\n",
       "    //background-color: #166066;\n",
       "      background-image: linear-gradient(to bottom, hsl(200, 100%, 7%), hsl(200, 100%, 12%));\n",
       "\n",
       "    color: white;\n",
       "    -webkit-filter: drop-shadow(2px 2px rgba(0,0,0,.1));\n",
       "\n",
       "  }\n",
       "\n",
       "  .CodeMirror pre{\n",
       "    font-family: Cousine;\n",
       "    font-size: 10pt;\n",
       "  }\n",
       "\n",
       "  .CodeMirror-lines { padding: 10px 20px 10px 20px;}\n",
       "\n",
       "  .cm-s-ipython span.cm-keyword { color: #e3655b;}\n",
       "\n",
       "  .cm-s-ipython span.cm-def { color: #fff9c4;}\n",
       "\n",
       "  .cm-s-ipython span.cm-variable { color: #E5ECEA;}\n",
       "\n",
       "  .cm-s-ipython span.cm-string { color: #33A1C9;}\n",
       "\n",
       "  .cm-s-ipython span.cm-builtin { color: #2ecc40;}\n",
       "\n",
       "  .cm-s-ipython span.cm-comment { color: #9B8065;}\n",
       "\n",
       "\n",
       "\n",
       "    \n",
       "</style>"
      ],
      "text/plain": [
       "<IPython.core.display.HTML object>"
      ]
     },
     "execution_count": 1,
     "metadata": {},
     "output_type": "execute_result"
    }
   ],
   "source": [
    "from IPython.core.display import HTML\n",
    "def css_styling():\n",
    "    styles = open(\"./styles/custom.css\", \"r\").read()\n",
    "    return HTML(styles)\n",
    "css_styling()"
   ]
  },
  {
   "cell_type": "markdown",
   "metadata": {},
   "source": [
    "*This is an initial dive into [Jupyter notebooks][jn], the self-contained Python environment.  The below post is [exported directly from a Jupyter Notebook][nb].  The tables below each code block are the API responses.*\n",
    "\n",
    "*I am using the [BarChart.com OnDemand API][bc] to call getHistory() and receive minute-level stock price data for a basket of stocks.  Then I do bar analysis to find potential buy spots.  This analysis is simply counting instances of minutely bars closing on highs.*\n",
    "\n",
    "*To use the code yourself, you will need to setup a python environment, jupyter notebook or otherwise.  Then, you'll need to [request a free BarChart.com OnDemand API key][bc], and plug it into the code.*\n",
    "\n",
    "*Last, set the file path for your project directory, and in that folder create a folder 'Stock_Price_Data' to export data to, and a folder 'assets' for your list.  In 'assets' create an Excel file 'Watchlist'.  Starting in row 4 with the header, have names in the first column and tickers in the second column.*\n",
    "\n",
    "[jn]: https://jupyter.org/\n",
    "[nb]: https://github.com/jupyter/nbconvert\n",
    "[bc]: https://www.barchart.com/ondemand/free-market-data-api"
   ]
  },
  {
   "cell_type": "markdown",
   "metadata": {},
   "source": [
    "# Fetch the data from BarChart\n",
    "\n",
    "Here we call the barchart getHistory API.  This is an adaptation of BlackArb's Python [tutorial][tut].\n",
    "\n",
    "#### Steps:\n",
    "- import libraries\n",
    "- set directories and API key\n",
    "- build URL to call API\n",
    "- get_minute_data() function\n",
    "- call the function\n",
    "\n",
    "**outputs: symbol, timestamp, tradingDay, open, high, low, close, volume, openInterest**\n",
    "\n",
    "[tut]: http://www.blackarbs.com/blog/how-to-get-free-intraday-stock-data-with-python-and-barcharts-ondemand-api/9/22/2015\n"
   ]
  },
  {
   "cell_type": "code",
   "execution_count": 1,
   "metadata": {
    "collapsed": false
   },
   "outputs": [
    {
     "name": "stdout",
     "output_type": "stream",
     "text": [
      "AAPL..[fetched] | 1 of 9 tickers |\n",
      "AMZN..[fetched] | 2 of 9 tickers |\n",
      "BIDU..[fetched] | 3 of 9 tickers |\n",
      "FB..[fetched] | 4 of 9 tickers |\n",
      "GOOGL..[fetched] | 5 of 9 tickers |\n",
      "GS..[fetched] | 6 of 9 tickers |\n",
      "IBB..[fetched] | 7 of 9 tickers |\n",
      "NFLX..[fetched] | 8 of 9 tickers |\n",
      "TSLA..[fetched] | 9 of 9 tickers |\n",
      "('49.2381 seconds to run', '| 0.8206 minutes to run', '| 0.0137 hours to run')\n"
     ]
    }
   ],
   "source": [
    "# -*- coding: utf-8 -*-\n",
    "\n",
    "#----------IMPORT LIBRARIES----------#\n",
    "import time\n",
    "t0 = time.clock()\n",
    "\n",
    "import pandas as pd\n",
    "from pandas.tseries.offsets import BDay\n",
    "\n",
    "import numpy as np\n",
    "import datetime as dt\n",
    "\n",
    "from copy import copy\n",
    "import warnings\n",
    "warnings.filterwarnings('ignore',category=pd.io.pytables.PerformanceWarning)\n",
    " \n",
    "\n",
    "    \n",
    "#----------SET DIRECTORIES----------#\n",
    "    \n",
    "project_dir = r'C:\\Users/drale/Desktop/python/' \n",
    "price_path = project_dir + r'Stock_Price_Data\\\\'\n",
    "\n",
    "# header=3 to skip metadata   \n",
    "spy_components = pd.read_excel(project_dir +\\\n",
    "                             'assets/Watchlist.xls', header=3)\n",
    "syms = spy_components.Identifier.dropna()\n",
    "syms = syms.drop(syms.index[-1]).sort_values()\n",
    "\n",
    "\n",
    "apikey = '99f7186682f41a3bd739984105aef52a'\n",
    "\n",
    "\n",
    "\n",
    "#----------BUILD URL----------#\n",
    "\n",
    "def construct_barChart_url(sym, start_date, freq, api_key=apikey):\n",
    "    '''Function to construct barchart api url'''\n",
    "    \n",
    "    url = 'http://marketdata.websol.barchart.com/getHistory.csv?' +\\\n",
    "            'key={}&symbol={}&type={}&startDate={}'.format(api_key, sym, freq, start_date)\n",
    "    return url\n",
    "\n",
    "\n",
    "\n",
    "\n",
    "#----------F(X) DEFINITION----------#\n",
    "\n",
    "def get_minute_data():\n",
    "    '''Function to Retrieve <= 3 months of minute data for SP500 components'''\n",
    "    \n",
    "    # YYYY MM DD HH MM SS\n",
    "    start = '20171001000000'\n",
    "    #end = d\n",
    "    freq = 'minutes'    \n",
    "    prices = {}\n",
    "    symbol_count = len(syms)\n",
    "    \n",
    "    try:\n",
    "        for i, sym in enumerate(syms, start=1):\n",
    "            api_url = construct_barChart_url(sym, start, freq, api_key=apikey)\n",
    "            try:\n",
    "                csvfile = pd.read_csv(api_url, parse_dates=['timestamp'])\n",
    "                csvfile.set_index('timestamp', inplace=True)\n",
    "                prices[sym] = csvfile\n",
    "            except:\n",
    "                continue\n",
    "\n",
    "            print('{}..[fetched] | {} of {} tickers |'.format(sym, i, symbol_count)) \n",
    "    except Exception as e: \n",
    "        print(e)\n",
    "    finally:\n",
    "        pass\n",
    "    \n",
    "    px = pd.Panel.from_dict(prices)\n",
    "    px.major_axis = px.major_axis.tz_localize('utc').tz_convert('US/Pacific')\n",
    "    return px\n",
    "\n",
    "\n",
    "\n",
    "#----------CALL FUNCTION----------#\n",
    "\n",
    "pxx = get_minute_data()\n",
    "pxx\n",
    "\n",
    "\n",
    "\n",
    "# timer\n",
    "secs      = np.round( ( time.clock()  - t0 ), 4 )\n",
    "time_secs = \"{timeSecs} seconds to run\".format(timeSecs = secs)\n",
    "mins      = np.round( ( (  time.clock() ) -  t0 )  / 60, 4 ) \n",
    "time_mins = \"| {timeMins} minutes to run\".format(timeMins = mins)\n",
    "hours     = np.round( (  time.clock()  -  t0 )  / 60 / 60, 4 ) \n",
    "time_hrs  = \"| {timeHrs} hours to run\".format(timeHrs = hours)\n",
    "\n",
    "print( time_secs, time_mins, time_hrs )"
   ]
  },
  {
   "cell_type": "markdown",
   "metadata": {},
   "source": [
    "# Select stock\n",
    "Choose a ticker to analyze, and test the output."
   ]
  },
  {
   "cell_type": "code",
   "execution_count": 2,
   "metadata": {
    "collapsed": false
   },
   "outputs": [
    {
     "data": {
      "text/html": [
       "<div>\n",
       "<table border=\"1\" class=\"dataframe\">\n",
       "  <thead>\n",
       "    <tr style=\"text-align: right;\">\n",
       "      <th></th>\n",
       "      <th>symbol</th>\n",
       "      <th>tradingDay</th>\n",
       "      <th>open</th>\n",
       "      <th>high</th>\n",
       "      <th>low</th>\n",
       "      <th>close</th>\n",
       "      <th>volume</th>\n",
       "    </tr>\n",
       "    <tr>\n",
       "      <th>timestamp</th>\n",
       "      <th></th>\n",
       "      <th></th>\n",
       "      <th></th>\n",
       "      <th></th>\n",
       "      <th></th>\n",
       "      <th></th>\n",
       "      <th></th>\n",
       "    </tr>\n",
       "  </thead>\n",
       "  <tbody>\n",
       "    <tr>\n",
       "      <th>2017-10-02 06:30:00-07:00</th>\n",
       "      <td>NFLX</td>\n",
       "      <td>2017-10-02</td>\n",
       "      <td>182.11</td>\n",
       "      <td>182.22</td>\n",
       "      <td>181.815</td>\n",
       "      <td>181.945</td>\n",
       "      <td>74650</td>\n",
       "    </tr>\n",
       "  </tbody>\n",
       "</table>\n",
       "</div>"
      ],
      "text/plain": [
       "                          symbol  tradingDay    open    high      low  \\\n",
       "timestamp                                                               \n",
       "2017-10-02 06:30:00-07:00   NFLX  2017-10-02  182.11  182.22  181.815   \n",
       "\n",
       "                             close volume  \n",
       "timestamp                                  \n",
       "2017-10-02 06:30:00-07:00  181.945  74650  "
      ]
     },
     "execution_count": 2,
     "metadata": {},
     "output_type": "execute_result"
    }
   ],
   "source": [
    "stock = 'NFLX'\n",
    "\n",
    "ohlc = pxx[stock]\n",
    "ohlc.head(1)"
   ]
  },
  {
   "cell_type": "markdown",
   "metadata": {},
   "source": [
    "# 1-min accumulation bars\n",
    "Where 1 min candlestick closes on highs, flag as accumulated."
   ]
  },
  {
   "cell_type": "code",
   "execution_count": 3,
   "metadata": {
    "collapsed": false
   },
   "outputs": [
    {
     "data": {
      "text/html": [
       "<div>\n",
       "<table border=\"1\" class=\"dataframe\">\n",
       "  <thead>\n",
       "    <tr style=\"text-align: right;\">\n",
       "      <th></th>\n",
       "      <th>high</th>\n",
       "      <th>close</th>\n",
       "      <th>accum</th>\n",
       "    </tr>\n",
       "    <tr>\n",
       "      <th>timestamp</th>\n",
       "      <th></th>\n",
       "      <th></th>\n",
       "      <th></th>\n",
       "    </tr>\n",
       "  </thead>\n",
       "  <tbody>\n",
       "    <tr>\n",
       "      <th>2017-11-07 12:38:00-08:00</th>\n",
       "      <td>195.38</td>\n",
       "      <td>195.38</td>\n",
       "      <td>1</td>\n",
       "    </tr>\n",
       "    <tr>\n",
       "      <th>2017-11-07 12:56:00-08:00</th>\n",
       "      <td>195.87</td>\n",
       "      <td>195.87</td>\n",
       "      <td>1</td>\n",
       "    </tr>\n",
       "    <tr>\n",
       "      <th>2017-11-07 13:00:00-08:00</th>\n",
       "      <td>195.89</td>\n",
       "      <td>195.89</td>\n",
       "      <td>1</td>\n",
       "    </tr>\n",
       "  </tbody>\n",
       "</table>\n",
       "</div>"
      ],
      "text/plain": [
       "                             high   close  accum\n",
       "timestamp                                       \n",
       "2017-11-07 12:38:00-08:00  195.38  195.38      1\n",
       "2017-11-07 12:56:00-08:00  195.87  195.87      1\n",
       "2017-11-07 13:00:00-08:00  195.89  195.89      1"
      ]
     },
     "execution_count": 3,
     "metadata": {},
     "output_type": "execute_result"
    }
   ],
   "source": [
    "#create accum column: for closing on highs, assign 1\n",
    "ohlc[\"accum\"] = np.where(ohlc[\"high\"] == ohlc[\"close\"], 1, 0)\n",
    "\n",
    "#list matches\n",
    "accumulation_bars = ohlc[(ohlc.accum == 1)]\n",
    "accumulation_bars[[\"high\", \"close\", \"accum\"]].tail(3)"
   ]
  },
  {
   "cell_type": "markdown",
   "metadata": {},
   "source": [
    "# Consecutive accumulation\n",
    "*Add the previous accumulated (or not) to current row*\n",
    "\n",
    "Measures when two 1-min candlesticks in a row close at highs."
   ]
  },
  {
   "cell_type": "code",
   "execution_count": 4,
   "metadata": {
    "collapsed": false
   },
   "outputs": [
    {
     "data": {
      "text/html": [
       "<div>\n",
       "<table border=\"1\" class=\"dataframe\">\n",
       "  <thead>\n",
       "    <tr style=\"text-align: right;\">\n",
       "      <th></th>\n",
       "      <th>high</th>\n",
       "      <th>close</th>\n",
       "      <th>conf</th>\n",
       "    </tr>\n",
       "    <tr>\n",
       "      <th>timestamp</th>\n",
       "      <th></th>\n",
       "      <th></th>\n",
       "      <th></th>\n",
       "    </tr>\n",
       "  </thead>\n",
       "  <tbody>\n",
       "    <tr>\n",
       "      <th>2017-11-06 09:44:00-08:00</th>\n",
       "      <td>201.54</td>\n",
       "      <td>201.54</td>\n",
       "      <td>2</td>\n",
       "    </tr>\n",
       "    <tr>\n",
       "      <th>2017-11-06 10:09:00-08:00</th>\n",
       "      <td>201.32</td>\n",
       "      <td>201.32</td>\n",
       "      <td>2</td>\n",
       "    </tr>\n",
       "    <tr>\n",
       "      <th>2017-11-06 12:36:00-08:00</th>\n",
       "      <td>199.97</td>\n",
       "      <td>199.97</td>\n",
       "      <td>2</td>\n",
       "    </tr>\n",
       "  </tbody>\n",
       "</table>\n",
       "</div>"
      ],
      "text/plain": [
       "                             high   close  conf\n",
       "timestamp                                      \n",
       "2017-11-06 09:44:00-08:00  201.54  201.54     2\n",
       "2017-11-06 10:09:00-08:00  201.32  201.32     2\n",
       "2017-11-06 12:36:00-08:00  199.97  199.97     2"
      ]
     },
     "execution_count": 4,
     "metadata": {},
     "output_type": "execute_result"
    }
   ],
   "source": [
    "#create conf column adding prev column\n",
    "ohlc[\"conf\"] = ohlc.accum + ohlc.accum.shift(1)\n",
    "\n",
    "#where conf is 2, make a table\n",
    "confirmation = ohlc[(ohlc.conf == 2)]\n",
    "confirmation[[\"high\", \"close\", \"conf\"]].tail(3)"
   ]
  },
  {
   "cell_type": "markdown",
   "metadata": {},
   "source": [
    "## Roll up to daily signal\n",
    "\n",
    "*sum the consecutive accumulation by day*\n",
    "\n",
    "#### Return the 3 biggest daily signals"
   ]
  },
  {
   "cell_type": "code",
   "execution_count": 5,
   "metadata": {
    "collapsed": false
   },
   "outputs": [
    {
     "data": {
      "text/html": [
       "<div>\n",
       "<table border=\"1\" class=\"dataframe\">\n",
       "  <thead>\n",
       "    <tr style=\"text-align: right;\">\n",
       "      <th></th>\n",
       "      <th>accum</th>\n",
       "      <th>conf</th>\n",
       "    </tr>\n",
       "    <tr>\n",
       "      <th>timestamp</th>\n",
       "      <th></th>\n",
       "      <th></th>\n",
       "    </tr>\n",
       "  </thead>\n",
       "  <tbody>\n",
       "    <tr>\n",
       "      <th>2017-10-03 00:00:00-07:00</th>\n",
       "      <td>22</td>\n",
       "      <td>44</td>\n",
       "    </tr>\n",
       "    <tr>\n",
       "      <th>2017-11-02 00:00:00-07:00</th>\n",
       "      <td>10</td>\n",
       "      <td>20</td>\n",
       "    </tr>\n",
       "    <tr>\n",
       "      <th>2017-11-03 00:00:00-07:00</th>\n",
       "      <td>10</td>\n",
       "      <td>20</td>\n",
       "    </tr>\n",
       "  </tbody>\n",
       "</table>\n",
       "</div>"
      ],
      "text/plain": [
       "                           accum  conf\n",
       "timestamp                             \n",
       "2017-10-03 00:00:00-07:00     22    44\n",
       "2017-11-02 00:00:00-07:00     10    20\n",
       "2017-11-03 00:00:00-07:00     10    20"
      ]
     },
     "execution_count": 5,
     "metadata": {},
     "output_type": "execute_result"
    }
   ],
   "source": [
    "#combine minutes into days\n",
    "signal = confirmation.resample('D',how='sum')\n",
    "\n",
    "#sort based on sum(conf)\n",
    "#signal.sort_values(['double'], ascending=[False])\n",
    "signal.nlargest(3,'conf')"
   ]
  },
  {
   "cell_type": "code",
   "execution_count": null,
   "metadata": {
    "collapsed": true
   },
   "outputs": [],
   "source": [
    "# get intraday min, max\n",
    "# calc support/resistance"
   ]
  },
  {
   "cell_type": "code",
   "execution_count": null,
   "metadata": {
    "collapsed": true
   },
   "outputs": [],
   "source": [
    "try:\n",
    "    store = pd.HDFStore(price_path + 'Minute_Symbol_Data.h5')\n",
    "    store['minute_prices'] = pxx\n",
    "    store.close()\n",
    "except Exception as e:\n",
    "    print(e)\n",
    "finally:\n",
    "    pass\n"
   ]
  },
  {
   "cell_type": "code",
   "execution_count": null,
   "metadata": {
    "collapsed": false
   },
   "outputs": [],
   "source": [
    "from IPython.display import display, HTML\n",
    "\n",
    "df = pd.read_hdf(price_path + 'Minute_Symbol_Data.h5')\n",
    "df\n",
    "# df.select('AAPL', axis=0)\n",
    "# display(df)\n",
    "# pd.to_html(project_dir + 'test.html')"
   ]
  },
  {
   "cell_type": "code",
   "execution_count": null,
   "metadata": {
    "collapsed": false
   },
   "outputs": [],
   "source": [
    "#import matplotlib.pyplot as plt   \n",
    "#from mpl_finance import candlestick_ohlc\n",
    "\n",
    "%matplotlib inline\n",
    "%pylab inline\n",
    "pylab.rcParams['figure.figsize'] = (15, 9)\n",
    "\n",
    "\n",
    " \n",
    "apple[\"close\"].tail(4).plot(grid = True) \n",
    "\n"
   ]
  },
  {
   "cell_type": "code",
   "execution_count": null,
   "metadata": {
    "collapsed": false
   },
   "outputs": [],
   "source": [
    "import plotly.plotly as py\n",
    "import plotly.graph_objs as go\n",
    "\n",
    "from datetime import datetime\n",
    "\n",
    "df = apple\n",
    "\n",
    "trace = go.Ohlc(x=df.index,\n",
    "                open=df.Open,\n",
    "                high=df.High,\n",
    "                low=df.Low,\n",
    "                close=df.Close)\n",
    "data = [trace]\n",
    "py.iplot(data, filename='simple_ohlc')"
   ]
  },
  {
   "cell_type": "code",
   "execution_count": null,
   "metadata": {
    "collapsed": true
   },
   "outputs": [],
   "source": []
  }
 ],
 "metadata": {
  "anaconda-cloud": {},
  "kernelspec": {
   "display_name": "Python [conda root]",
   "language": "python",
   "name": "conda-root-py"
  },
  "language_info": {
   "codemirror_mode": {
    "name": "ipython",
    "version": 2
   },
   "file_extension": ".py",
   "mimetype": "text/x-python",
   "name": "python",
   "nbconvert_exporter": "python",
   "pygments_lexer": "ipython2",
   "version": "2.7.12"
  }
 },
 "nbformat": 4,
 "nbformat_minor": 1
}
